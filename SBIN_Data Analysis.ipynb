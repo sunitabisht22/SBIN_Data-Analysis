{
 "cells": [
  {
   "cell_type": "markdown",
   "id": "6b72d56f",
   "metadata": {},
   "source": [
    "# SBIN_Data Analysis:\n",
    "\n",
    "This assignment is a part of the Python-Data Analyst Internship offered by Tanmay Agrawal Sir. "
   ]
  },
  {
   "cell_type": "code",
   "execution_count": 1,
   "id": "9a0891b6",
   "metadata": {},
   "outputs": [],
   "source": [
    "import pandas as pd\n",
    "\n",
    "# Load the time series data into a pandas DataFrame (assuming 'data' is your DataFrame)\n",
    "# Replace 'data.csv' with the actual file name or provide the DataFrame directly if it's already loaded\n",
    "SBIN_Data = pd.read_csv('SBIN_Data.csv')\n"
   ]
  },
  {
   "cell_type": "code",
   "execution_count": 2,
   "id": "8e89a2f4",
   "metadata": {},
   "outputs": [],
   "source": [
    "# Convert 'Date' column to datetime format\n",
    "SBIN_Data['Date'] = pd.to_datetime(SBIN_Data['Date'], format='%d-%m-%Y')\n"
   ]
  },
  {
   "cell_type": "code",
   "execution_count": 3,
   "id": "3a007161",
   "metadata": {},
   "outputs": [],
   "source": [
    "# Set 'Date' column as index\n",
    "SBIN_Data.set_index('Date', inplace=True)"
   ]
  },
  {
   "cell_type": "code",
   "execution_count": 4,
   "id": "b331a391",
   "metadata": {},
   "outputs": [],
   "source": [
    "# Function to calculate rank of volume for each timestamp\n",
    "def calculate_volume_rank(df):\n",
    "    df['rank'] = df['Volume'].rank(ascending=False)\n",
    "    return df"
   ]
  },
  {
   "cell_type": "code",
   "execution_count": 5,
   "id": "036b69c9",
   "metadata": {},
   "outputs": [],
   "source": [
    "# Group by time and apply the rank calculation function\n",
    "SBIN_Data = SBIN_Data.groupby(pd.Grouper(freq='T')).apply(calculate_volume_rank)"
   ]
  },
  {
   "cell_type": "code",
   "execution_count": 6,
   "id": "9a10e757",
   "metadata": {},
   "outputs": [],
   "source": [
    "# Filter data for the last 5 days\n",
    "last_5_days_data = SBIN_Data.loc[SBIN_Data.index.date >= (SBIN_Data.index.date.max() - pd.Timedelta(days=4))]"
   ]
  },
  {
   "cell_type": "code",
   "execution_count": 8,
   "id": "ad43f00f",
   "metadata": {},
   "outputs": [
    {
     "name": "stdout",
     "output_type": "stream",
     "text": [
      "            Volume   rank\n",
      "Date                     \n",
      "2024-01-29  265767    3.0\n",
      "2024-01-29  225794    4.0\n",
      "2024-01-29  111169   29.0\n",
      "2024-01-29  101948   37.0\n",
      "2024-01-29   45154  164.0\n",
      "...            ...    ...\n",
      "2024-01-31  161605   27.0\n",
      "2024-01-31  143774   35.0\n",
      "2024-01-31  166278   26.0\n",
      "2024-01-31  138018   40.0\n",
      "2024-01-31   54342  146.0\n",
      "\n",
      "[1125 rows x 2 columns]\n"
     ]
    }
   ],
   "source": [
    "# Output the DataFrame with the 'rank' column\n",
    "print(last_5_days_data[['Volume', 'rank']])"
   ]
  },
  {
   "cell_type": "code",
   "execution_count": null,
   "id": "8f2ba6e5",
   "metadata": {},
   "outputs": [],
   "source": []
  },
  {
   "cell_type": "code",
   "execution_count": null,
   "id": "54d34d2d",
   "metadata": {},
   "outputs": [],
   "source": []
  }
 ],
 "metadata": {
  "kernelspec": {
   "display_name": "Python 3 (ipykernel)",
   "language": "python",
   "name": "python3"
  },
  "language_info": {
   "codemirror_mode": {
    "name": "ipython",
    "version": 3
   },
   "file_extension": ".py",
   "mimetype": "text/x-python",
   "name": "python",
   "nbconvert_exporter": "python",
   "pygments_lexer": "ipython3",
   "version": "3.9.13"
  }
 },
 "nbformat": 4,
 "nbformat_minor": 5
}
